{
 "cells": [
  {
   "cell_type": "markdown",
   "id": "78dca51b-f101-44b7-8744-ae28fa11b423",
   "metadata": {},
   "source": [
    "# Qcodes Examples Basel Precision Instruments DAC 1060 24 channel"
   ]
  },
  {
   "cell_type": "markdown",
   "id": "031d4081-7846-4091-b5ec-a6b15938420a",
   "metadata": {},
   "source": [
    "Author: Rafael S. Eggli, July 2024\n",
    "\n",
    "This notebook shows example usecases for the Baspi DAC 1060 with 24 channels and AWG functionality."
   ]
  },
  {
   "cell_type": "markdown",
   "id": "49314232-d036-4683-8bac-8d5e8c0da948",
   "metadata": {},
   "source": [
    "## 1. DC voltages on individual channels"
   ]
  },
  {
   "cell_type": "markdown",
   "id": "e5a45e1a-66df-40ef-ab54-f37faaeef2ef",
   "metadata": {},
   "source": [
    "### 1.0 Imports"
   ]
  },
  {
   "cell_type": "code",
   "execution_count": null,
   "id": "e13dcc1f-4727-40d1-a564-6117ee87f1b4",
   "metadata": {},
   "outputs": [],
   "source": [
    "import random\n",
    "\n",
    "# qcodes \n",
    "from qcodes import Station\n",
    "from qcodes.utils.dataset.doNd import do1d, do2d\n",
    "from qcodes.instrument.base import Instrument\n",
    "from qcodes.instrument.parameter import Parameter\n",
    "from qcodes import  (Measurement,\n",
    "                    experiments,\n",
    "                    initialise_database,\n",
    "                    initialise_or_create_database_at,\n",
    "                    load_by_guid,\n",
    "                    load_by_run_spec,\n",
    "                    load_experiment,\n",
    "                    load_last_experiment,\n",
    "                    load_or_create_experiment,\n",
    "                    new_experiment,\n",
    "                    ManualParameter)\n",
    "\n",
    "\n",
    "# Baspi Dac driver\n",
    "from baspi_lnhrdac2 import SP1060\n",
    "# Gate and VirtualGateParameter classes for DC voltage sweeps\n",
    "from qcodes_gate_parameters import GateParameter, VirtualGateParameter"
   ]
  },
  {
   "cell_type": "code",
   "execution_count": null,
   "id": "5887c36f-8a0d-47e0-91d4-65c146651885",
   "metadata": {},
   "outputs": [],
   "source": [
    "sample_name = \"example scans\" # Sample name\n",
    "exp_name = \"BasPI LNHR DAC demo\" # Experiment name\n",
    "\n",
    "\n",
    "experiment = load_or_create_experiment(experiment_name = exp_name,\n",
    "                                       sample_name = sample_name)"
   ]
  },
  {
   "cell_type": "markdown",
   "id": "ea236088-7b5d-4212-ac3f-7aec210afad2",
   "metadata": {},
   "source": [
    "In order to mimick measurements, we will define a dummy instrument as well as a dummy measurement parameter which we will use in the following examples. Calling the measurement parameter will return a random number:"
   ]
  },
  {
   "cell_type": "code",
   "execution_count": null,
   "id": "25d957fb-fcce-4854-957a-0b8dc3355ffd",
   "metadata": {},
   "outputs": [],
   "source": [
    "#Random number parameter to mimick measurements in the example notebook\n",
    "class RandomNumberParameter(Parameter):\n",
    "    def get_raw(self):\n",
    "        return random.random()\n",
    "\n",
    "# Define a custom instrument\n",
    "class RandomNumberInstrument(Instrument):\n",
    "    def __init__(self, name):\n",
    "        super().__init__(name)\n",
    "        \n",
    "        # Add the random number parameter to the instrument\n",
    "        self.add_parameter('random_number',\n",
    "                           parameter_class=RandomNumberParameter)\n",
    "    def get_idn(self):\n",
    "        return {\n",
    "            \"vendor\": \"BasPI\",\n",
    "            \"model\": str(self.__class__),\n",
    "            \"serial\": \"NA\",\n",
    "            \"firmware\": \"NA\",\n",
    "        } \n",
    "        \n",
    "# Instantiate the instrument\n",
    "dummy_instrument = RandomNumberInstrument('random_instrument')"
   ]
  },
  {
   "cell_type": "markdown",
   "id": "085a4928-056c-4d28-a12b-89f0334d7168",
   "metadata": {},
   "source": [
    "### 1.1 Setting up the DAC"
   ]
  },
  {
   "cell_type": "markdown",
   "id": "dcadfa09-8f57-41ac-b7ed-bc22992f885d",
   "metadata": {},
   "source": [
    "Lets now instantiate the DAC:\n",
    "\n",
    "Upon connecting to the dac, the current status of all chanels is displayed as well as the current voltage output values."
   ]
  },
  {
   "cell_type": "code",
   "execution_count": null,
   "id": "b5732cc7-4d38-49fd-a1ac-41cd5ff12f1d",
   "metadata": {},
   "outputs": [],
   "source": [
    "# The DAC is a visa instrument, find its visa adress e.g. using NI-MAX\n",
    "dac = SP1060('LNHR_dac', 'TCPIP0::192.168.0.5::23::SOCKET') "
   ]
  },
  {
   "cell_type": "markdown",
   "id": "5e3b1da0-d99d-493d-b0f6-3462dfcb758e",
   "metadata": {},
   "source": [
    "We can now add the DAC and the dummy instrument to the station:"
   ]
  },
  {
   "cell_type": "code",
   "execution_count": null,
   "id": "02dbad5f-e9db-475a-8469-4414eee774a0",
   "metadata": {},
   "outputs": [],
   "source": [
    "station = Station()\n",
    "\n",
    "# dummy instrument\n",
    "station.add_component(dummy_instrument)\n",
    "\n",
    "# Baspi DAC\n",
    "station.add_component(dac)"
   ]
  },
  {
   "cell_type": "markdown",
   "id": "7aee4334-7a62-4941-8f47-ab7f7d1e9dad",
   "metadata": {},
   "source": [
    "### 1.2 Gate and Source Voltage Parameters using the GateParameter Class"
   ]
  },
  {
   "cell_type": "code",
   "execution_count": null,
   "id": "65447fb9-b373-41fd-8fcc-e771901a4062",
   "metadata": {},
   "outputs": [],
   "source": [
    "# Access the random number parameter\n",
    "dummy_measurement = dummy_instrument.random_number"
   ]
  },
  {
   "cell_type": "markdown",
   "id": "84881b0f-6225-4599-ada1-defa7336e4af",
   "metadata": {},
   "source": [
    "#### 1.2.1 Gate Voltage Parameters"
   ]
  },
  {
   "cell_type": "markdown",
   "id": "cf15641b-d72f-4577-87d7-856a7d6f0ea0",
   "metadata": {},
   "source": [
    "Use GateParameters to easily set and sweep DC voltages on any channel of the DAC.\n",
    "\n",
    "For the 24-chanel version, use dac.chxy.volt with xy in {1,2,3, ... , 24} to access channel xy. \n",
    "The parameter name needs to be specified, the defauls unit it V.\n",
    "The default value_range is (-10,10) and can be specified to prevent applying excessive voltages."
   ]
  },
  {
   "cell_type": "code",
   "execution_count": null,
   "id": "14b974e0-1356-44ab-96eb-679b632c12c3",
   "metadata": {
    "tags": []
   },
   "outputs": [],
   "source": [
    "# Gate 1\n",
    "V1 = GateParameter(dac.ch1.volt,\n",
    "                        name = \"V_1\",               \n",
    "                        unit = \"V\",\n",
    "                        value_range = (-10, 10),\n",
    "                        )\n",
    "# Gate 2\n",
    "V2 = GateParameter(dac.ch2.volt,\n",
    "                        name = \"V_2\",\n",
    "                        unit = \"V\",\n",
    "                        value_range = (-1, 5),\n",
    "                        )\n"
   ]
  },
  {
   "cell_type": "markdown",
   "id": "8000840a-b407-4b6b-96f0-5403ac77b874",
   "metadata": {},
   "source": [
    "#### 1.2.2 Source Voltage Parameter"
   ]
  },
  {
   "cell_type": "markdown",
   "id": "2b95a659-b0f7-414d-a9f7-e4462f675243",
   "metadata": {},
   "source": [
    "Example source voltage parameter which is applied e.g. through a BasPI low noise high stability I/V converter SP083c.\n",
    "The I/V converter input voltage is divided by 100, so we need to appropriately scale the DAC output.\n",
    "An optional offset voltage can also be defined.\n",
    "\n",
    "The dac will output the voltage according to V_output = V_input*scaling + offset on channel 10.\n",
    "Note that the value of V_output must lie within the value_range.\n",
    "\n",
    "Default parameters are scaling = 1; offset = 0"
   ]
  },
  {
   "cell_type": "code",
   "execution_count": null,
   "id": "4ed465fe-f827-4fb4-888f-af88b11848c5",
   "metadata": {},
   "outputs": [],
   "source": [
    "VSource = GateParameter(dac.ch10.volt,\n",
    "                        name = \"V_S\",\n",
    "                        unit = \"V\",\n",
    "                        value_range = (-2.5, 2.5),\n",
    "                        scaling = 100,\n",
    "                        offset = 0\n",
    "                        )"
   ]
  },
  {
   "cell_type": "markdown",
   "id": "ca9851ba-bc21-4929-830a-7d7131df4de6",
   "metadata": {},
   "source": [
    "Exemplary 1D sweep using the qcodes do1d method:"
   ]
  },
  {
   "cell_type": "code",
   "execution_count": null,
   "id": "72bbeba1-c309-4e09-8c82-bf8ab3a0ab7d",
   "metadata": {},
   "outputs": [],
   "source": [
    "do1d(V1,0,1,20,0.001,dummy_measurement,show_progress=True, do_plot = True)"
   ]
  },
  {
   "cell_type": "markdown",
   "id": "d2b72ab9-fd60-42e8-9c72-475c0d437d66",
   "metadata": {
    "tags": []
   },
   "source": [
    "### 1.3 Linear Combinations of Gate voltages using VirtualGateParameter"
   ]
  },
  {
   "cell_type": "markdown",
   "id": "30ecdb9b-98f2-4a22-b96d-ca5f75aa57fa",
   "metadata": {},
   "source": [
    "#### 1.3.1 Synchronized Gate Parameters"
   ]
  },
  {
   "cell_type": "markdown",
   "id": "95e5c247-ea1b-4486-95b3-86287ee19c50",
   "metadata": {},
   "source": [
    "We can simultanseusly address multiple gate parameters by listing them in a VirtualGateParameter. Here, the scaling and offsets are inherited from the parent parameters.\n",
    "\n",
    "The parameters are listed to params as a tuple.\n",
    "\n",
    "If scaling and offsets are provided, these must be tuples of the same length as params.\n",
    "\n",
    "Note that if Vgates is set to a specific value, the underlying GateParameters are swept sequentially to the respective target voltage, following their listing order in params."
   ]
  },
  {
   "cell_type": "code",
   "execution_count": null,
   "id": "93f42a09-f9fe-43ac-808c-ce4f103b937e",
   "metadata": {
    "tags": []
   },
   "outputs": [],
   "source": [
    "# V gates is a parameter that combines V1 and V2\n",
    "Vgates= VirtualGateParameter(name = \"V_gates\",\n",
    "                             params = (V1, V2),\n",
    "                             set_scaling = (1,1)\n",
    "                            )"
   ]
  },
  {
   "cell_type": "code",
   "execution_count": null,
   "id": "b3976cc4-b81c-4742-8fe1-c0d1d689bc7d",
   "metadata": {
    "tags": []
   },
   "outputs": [],
   "source": [
    "# Simultaneous sweeping of V1 and V2\n",
    "do1d(Vgates,0,1,10,0.01,dummy_measurement,V1,V2,show_progress=True, do_plot = True)"
   ]
  },
  {
   "cell_type": "markdown",
   "id": "12eb8d67-411a-4e33-b144-fbb77a20353b",
   "metadata": {
    "tags": []
   },
   "source": [
    "#### 1.3.2 Virtual Gate composed of V1 and V2"
   ]
  },
  {
   "cell_type": "markdown",
   "id": "70c99cdc-1456-4b4b-a4e1-0ca9e058d30b",
   "metadata": {},
   "source": [
    "The scaling and offsets on the two GateParameters can be chosen individually to create a virtualized gate. This is useful for instance when cross-capacitances are accounted for. \n",
    "\n"
   ]
  },
  {
   "cell_type": "code",
   "execution_count": null,
   "id": "72a18797-9f99-4db3-bf6d-23ac09287474",
   "metadata": {},
   "outputs": [],
   "source": [
    "# A virtualized gate parameter composed of V1 and V2\n",
    "# The output voltages are calculated as V1 = 2*V_input + 0.5 and V2 = -1*V_input + 0.1\n",
    "Vvirtual= VirtualGateParameter(name = \"V_virtual\",\n",
    "                           params = (V1, V2),\n",
    "                           set_scaling = (2,-1),\n",
    "                           offsets = (0.5, 0.1))"
   ]
  },
  {
   "cell_type": "code",
   "execution_count": null,
   "id": "047c9b02-2b51-45e5-a28c-df4021df9e6e",
   "metadata": {},
   "outputs": [],
   "source": [
    "do1d(Vvirtual,0,1,10,0.01,dummy_measurement,V1,V2,show_progress=True, do_plot = True)"
   ]
  },
  {
   "cell_type": "markdown",
   "id": "a6665f60-7954-4558-94b9-146c160ec9e9",
   "metadata": {},
   "source": [
    "#### 1.3.3 Direct Definition without Gate Parameter"
   ]
  },
  {
   "cell_type": "markdown",
   "id": "28c863dc-8931-40a8-8ba4-2d09a5ff4b90",
   "metadata": {},
   "source": [
    "If the independent gate voltages are not supposed to be swept independently, a combined virtual gate parameter can also be defined directly:"
   ]
  },
  {
   "cell_type": "code",
   "execution_count": null,
   "id": "e941a96c-93f8-4a98-83b6-9b35e417d35d",
   "metadata": {},
   "outputs": [],
   "source": [
    "Vdirect= VirtualGateParameter(name = \"V_direct\",\n",
    "                           params = (dac.ch3.volt, dac.ch4.volt),\n",
    "                           set_scaling = (0.5,2),\n",
    "                           offsets = (1, 0))"
   ]
  },
  {
   "cell_type": "code",
   "execution_count": null,
   "id": "5a4e5ca7-437a-4aaf-b2e0-e4ceba3d3120",
   "metadata": {},
   "outputs": [],
   "source": [
    "do1d(Vdirect,0,1,10,0.01,dummy_measurement,V1,V2,show_progress=True, do_plot = True)"
   ]
  },
  {
   "cell_type": "markdown",
   "id": "05c75190-3f5d-401f-be67-6b10dd93db68",
   "metadata": {
    "tags": []
   },
   "source": [
    "### 1.4 Further Settings of DAC Channels"
   ]
  },
  {
   "cell_type": "markdown",
   "id": "ab71b59a-cbcd-42e1-ad44-5f086f2d46b5",
   "metadata": {},
   "source": [
    "#### 1.4.1 Safety Limits"
   ]
  },
  {
   "cell_type": "markdown",
   "id": "1c2a5118-a710-48c5-b403-bc5e7d373f4b",
   "metadata": {},
   "source": [
    "Each physical dac channel is assigned a safe ramp rate at initialisation to prevent too fast DC voltage swings e.g. when setting the voltage using a qcodes set sommand or when resetting the gate voltage on the fast axis of 2D scans. Two parameters are used:\n",
    "\n",
    "inter_delay: The minimum wait time (in seconds) between two subsequent voltages are set. Set inter_delay to 0 if the maximum possible ramp speed should be used. Default value: 0.02 s.\n",
    "\n",
    "step: Maximum increment of the channel output voltage. If the difference between the target voltage and the current output voltage is larger than step, it is broken into multiple steps of size step and in between subsequent steps, the inter_delay wait is applied. Default value 0.01 V.\n",
    "\n",
    "The defaults are applied when initializing the dac and can be changed in the driver on lines 137 & 136. \n",
    "\n",
    "Individual channel setings can be read out and set as follos:"
   ]
  },
  {
   "cell_type": "code",
   "execution_count": null,
   "id": "918e65a8-5ac8-45d1-9ab1-e64710b02449",
   "metadata": {},
   "outputs": [],
   "source": [
    "dac.ch1.volt.inter_delay = 0.01  # setting the inter_delay of only channel 1"
   ]
  },
  {
   "cell_type": "code",
   "execution_count": null,
   "id": "27b93bce-e38e-48df-b878-ccd02b5955db",
   "metadata": {},
   "outputs": [],
   "source": [
    "dac.ch1.volt.inter_delay"
   ]
  },
  {
   "cell_type": "code",
   "execution_count": null,
   "id": "98a423a6-465c-4add-9135-cbb872ba9741",
   "metadata": {},
   "outputs": [],
   "source": [
    "dac.ch1.volt.step = 0.1 "
   ]
  },
  {
   "cell_type": "code",
   "execution_count": null,
   "id": "adfe165b-ef19-4bc3-aeb3-922df7557df8",
   "metadata": {},
   "outputs": [],
   "source": [
    "dac.ch1.volt.step"
   ]
  },
  {
   "cell_type": "code",
   "execution_count": null,
   "id": "e60e1986-dc4c-480f-b8cb-1e38f0802d86",
   "metadata": {},
   "outputs": [],
   "source": [
    "dac.ch2.volt.step"
   ]
  },
  {
   "cell_type": "markdown",
   "id": "ab87e909-4f21-4c1b-81f5-a37d51cf0e0f",
   "metadata": {},
   "source": [
    "#### 1.4.2 Collective Actions on all Channels"
   ]
  },
  {
   "cell_type": "markdown",
   "id": "9c754db8-2fbd-49f9-816f-475f47799f5c",
   "metadata": {},
   "source": [
    "By default, all channels are turned on upon dac initialisation. We can turn all channels off using all_off and back on using all_on."
   ]
  },
  {
   "cell_type": "code",
   "execution_count": null,
   "id": "0bb45209-af92-4045-bc39-594587a69d61",
   "metadata": {},
   "outputs": [],
   "source": [
    "dac.all_off() "
   ]
  },
  {
   "cell_type": "code",
   "execution_count": null,
   "id": "81fae465-8038-4717-b03b-2255ae1638e6",
   "metadata": {},
   "outputs": [],
   "source": [
    "print(dac.query_all())"
   ]
  },
  {
   "cell_type": "code",
   "execution_count": null,
   "id": "53329cbe-0ef7-4b0b-b420-d6ceb437e3a8",
   "metadata": {},
   "outputs": [],
   "source": [
    "dac.all_on() "
   ]
  },
  {
   "cell_type": "code",
   "execution_count": null,
   "id": "8594cd07-8a53-4a43-9730-a6deb559a348",
   "metadata": {},
   "outputs": [],
   "source": [
    "print(dac.query_all())"
   ]
  },
  {
   "cell_type": "markdown",
   "id": "e0139c78-649b-449a-bb77-b1c49eb8bacd",
   "metadata": {},
   "source": [
    "### 1.5 2D sweeps using Gate Parameters"
   ]
  },
  {
   "cell_type": "markdown",
   "id": "7aed4a01-941d-4d8a-839f-36e5279ae171",
   "metadata": {},
   "source": [
    "We can use GateParameters as well as VirtualGateParameters also in the qcodes d2d method:"
   ]
  },
  {
   "cell_type": "code",
   "execution_count": null,
   "id": "2b1c88ce-e86c-4458-879e-6dfe46d3c9fe",
   "metadata": {},
   "outputs": [],
   "source": [
    "do2d(V1, -1,1,20,1,V2,-1,1,20,0.01,dummy_measurement,show_progress=True, do_plot = True)"
   ]
  },
  {
   "cell_type": "code",
   "execution_count": null,
   "id": "746cedb5-563d-4e71-81e8-e073f6e273cc",
   "metadata": {},
   "outputs": [],
   "source": [
    "do2d(V1, -1,1,20,1,Vvirtual,-1,1,20,0.01,dummy_measurement,V2,show_progress=True, do_plot = True)"
   ]
  },
  {
   "cell_type": "code",
   "execution_count": null,
   "id": "453e63f9-527e-41a8-8c95-740ed221b494",
   "metadata": {},
   "outputs": [],
   "source": []
  }
 ],
 "metadata": {
  "kernelspec": {
   "display_name": "BASPI-DAC-1060-qcodes-v0.1.0-G0xWj1rk",
   "language": "python",
   "name": "python3"
  },
  "language_info": {
   "codemirror_mode": {
    "name": "ipython",
    "version": 3
   },
   "file_extension": ".py",
   "mimetype": "text/x-python",
   "name": "python",
   "nbconvert_exporter": "python",
   "pygments_lexer": "ipython3",
   "version": "3.12.3"
  }
 },
 "nbformat": 4,
 "nbformat_minor": 5
}
